{
 "cells": [
  {
   "cell_type": "code",
   "execution_count": null,
   "metadata": {},
   "outputs": [],
   "source": [
    "\n",
    "# Zadanie 1\n",
    "# Poniżej przy pomocy funkcji fetch_openml można zaimportować zbiór danych o samochodach\n",
    "# Zapoznaj się ze zbiorem danych (zwizualizuj wybrane przez siebie cechy) a następnie podziel go na zbiór uczący i testowy\n",
    "# Wytrenuj klasyfikator KMeans z zadaną przez siebie liczbą klas i zwizualizuj wyniki predykcji na zbiorze testowym"
   ]
  },
  {
   "cell_type": "code",
   "execution_count": null,
   "metadata": {},
   "outputs": [],
   "source": [
    "from sklearn.datasets import fetch_openml\n",
    "from sklearn.cluster import KMeans\n",
    "from sklearn.model_selection import train_test_split\n",
    "import pandas as pd\n",
    "import seaborn as sns\n",
    "import matplotlib.pyplot as plt\n"
   ]
  },
  {
   "cell_type": "code",
   "execution_count": null,
   "metadata": {},
   "outputs": [],
   "source": [
    "samochody = fetch_openml('cars1')\n",
    "# print(samochody)\n",
    "\n",
    "# Wizualizacja cech\n",
    "\n",
    "X = samochody.data[:, [0,1,3,6]]  # wybieram 'MPG','cylinders', 'horsepower','year'\n",
    "y = [int(item) for item in samochody.target]\n",
    "\n",
    "# tworzenie dataframe dla uproszczenia rysowania\n",
    "df = pd.DataFrame(X, columns=['MPG','cylinders', 'horsepower','year'])\n",
    "sns.pairplot(df)\n",
    "plt.show()\n",
    "\n",
    "# podzial na sety testowe i treningowe\n",
    "X_train, X_test, y_train, y_test = train_test_split(X, y, test_size = 0.3)\n"
   ]
  },
  {
   "cell_type": "code",
   "execution_count": null,
   "metadata": {},
   "outputs": [],
   "source": [
    "class_num = 7\n",
    "kmn = KMeans(n_clusters=class_num)\n",
    "kmn.fit(X_train)  # uczenie bez nadzoru\n",
    "\n",
    "# punkty centralne klastrow\n",
    "centra = kmn.cluster_centers_\n",
    "\n",
    "y_pred = kmn.predict(X_test)\n",
    "\n",
    "# Nowe gatunki przewidziane przez klastrowanie\n",
    "plt.scatter(X_test[:, 0], X_test[:, 1], c=y_pred, s=20)\n",
    "plt.scatter(centra[:, 0], centra[:, 1], c='red', s=50)\n",
    "plt.show()"
   ]
  },
  {
   "cell_type": "code",
   "execution_count": null,
   "metadata": {},
   "outputs": [],
   "source": [
    "# Zadanie 2\n",
    "# Opisz własnymi słowami, jakie klasy samochodów wg Ciebie znalazły się w zbiorze"
   ]
  },
  {
   "cell_type": "code",
   "execution_count": null,
   "metadata": {},
   "outputs": [],
   "source": [
    "# W tym przypadku - znalazly sie klasy wybrane do zbioru X, czyli 'MPG','cylinders', 'horsepower','year' oraz 3 dodatkowe, przewidziane przez uczenie."
   ]
  }
 ],
 "metadata": {
  "kernelspec": {
   "display_name": "Python 3",
   "language": "python",
   "name": "python3"
  },
  "language_info": {
   "codemirror_mode": {
    "name": "ipython",
    "version": 3
   },
   "file_extension": ".py",
   "mimetype": "text/x-python",
   "name": "python",
   "nbconvert_exporter": "python",
   "pygments_lexer": "ipython3",
   "version": "3.7.3"
  }
 },
 "nbformat": 4,
 "nbformat_minor": 2
}
