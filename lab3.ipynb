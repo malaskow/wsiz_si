{
 "cells": [
  {
   "cell_type": "code",
   "execution_count": null,
   "metadata": {},
   "outputs": [],
   "source": [
    "# Zadanie 1\n",
    "# Wybierz inną cechę i spróbuj przewidzieć ceny mieszkań. Użyj walidacji krzyżowej."
   ]
  },
  {
   "cell_type": "code",
   "execution_count": 17,
   "metadata": {},
   "outputs": [],
   "source": [
    "import numpy as np\n",
    "from sklearn.datasets import load_boston\n",
    "from sklearn.model_selection import train_test_split\n",
    "from sklearn.metrics import explained_variance_score\n",
    "from sklearn.linear_model import LinearRegression\n",
    "import matplotlib.pyplot as plt\n",
    "from sklearn.model_selection import cross_val_score\n",
    "\n",
    "%matplotlib inline\n"
   ]
  },
  {
   "cell_type": "code",
   "execution_count": 28,
   "metadata": {
    "scrolled": true
   },
   "outputs": [
    {
     "name": "stdout",
     "output_type": "stream",
     "text": [
      "Metryka domyślna:  0.08982139809270473\n",
      "Metryka r2:  0.08982139809270473\n",
      "Metryka explained_variance_score:  0.11061559586368563\n",
      "Współczynniki regresji:\n",
      " [-0.12102176]\n"
     ]
    },
    {
     "data": {
      "image/png": "[encoded data removed]",
      "text/plain": [
       "<Figure size 432x288 with 1 Axes>"
      ]
     },
     "metadata": {
      "needs_background": "light"
     },
     "output_type": "display_data"
    }
   ],
   "source": [
    "boston_nieruchomosci = load_boston()\n",
    "\n",
    "wiek = boston_nieruchomosci['data'][:, np.newaxis, 6]\n",
    "# Stworzenie regresora liniowego\n",
    "linreg = LinearRegression()\n",
    "\n",
    "X_train, X_test, y_train, y_test = train_test_split(wiek, boston_nieruchomosci['target'], test_size = 0.3)\n",
    "\n",
    "linreg.fit(X_train, y_train)\n",
    "\n",
    "# przewidywanie ceny\n",
    "y_pred = linreg.predict(X_test)\n",
    "# domyślna metryka\n",
    "print('Metryka domyślna: ', linreg.score(X_test, y_test))\n",
    "\n",
    "# wskaźnik (metryka) r^2\n",
    "print('Metryka r2: ', r2_score(y_test, y_pred))\n",
    "print('Metryka explained_variance_score: ', explained_variance_score(y_test, y_pred))\n",
    "# współczynniki regresji\n",
    "print('Współczynniki regresji:\\n', linreg.coef_)\n",
    "\n",
    "# Wykres regresji\n",
    "plt.scatter(X_test, y_test, color='black')\n",
    "plt.plot(X_test, y_pred, color='blue', linewidth=2)\n",
    "plt.ax\n",
    "plt.show()"
   ]
  },
  {
   "cell_type": "code",
   "execution_count": 26,
   "metadata": {},
   "outputs": [
    {
     "name": "stdout",
     "output_type": "stream",
     "text": [
      "[ 0.04495477  0.05074154 -0.69817202 -0.06274528 -1.21254137]\n",
      "[0.91736728 0.93046496 0.91719393 0.92313272 0.91719732]\n",
      "[ 0.186572    0.22134411 -0.1927494   0.02340588  0.19023416]\n",
      "[ -32.98267334  -86.4174086  -136.00184794  -93.21535661  -58.82775103]\n"
     ]
    }
   ],
   "source": [
    "\n",
    "cv_score_r2 = cross_val_score(linreg, wiek, boston_nieruchomosci.target, cv=5, scoring='r2')\n",
    "print(cv_score_r2)\n",
    "\n",
    "completeness_score = cross_val_score(linreg, wiek, boston_nieruchomosci.target, cv=5, scoring='completeness_score')\n",
    "print(completeness_score)\n",
    "\n",
    "\n",
    "cv_score_ev = cross_val_score(linreg, wiek, boston_nieruchomosci.target, cv=5, scoring='explained_variance')\n",
    "print(cv_score_ev)\n",
    "\n",
    "# ...i jeszcze innej\n",
    "cv_score_mse = cross_val_score(linreg, wiek, boston_nieruchomosci.target, cv=5, scoring='neg_mean_squared_error')\n",
    "print(cv_score_mse)"
   ]
  },
  {
   "cell_type": "code",
   "execution_count": null,
   "metadata": {},
   "outputs": [],
   "source": []
  }
 ],
 "metadata": {
  "kernelspec": {
   "display_name": "Python 3",
   "language": "python",
   "name": "python3"
  },
  "language_info": {
   "codemirror_mode": {
    "name": "ipython",
    "version": 3
   },
   "file_extension": ".py",
   "mimetype": "text/x-python",
   "name": "python",
   "nbconvert_exporter": "python",
   "pygments_lexer": "ipython3",
   "version": "3.7.3"
  }
 },
 "nbformat": 4,
 "nbformat_minor": 2
}
