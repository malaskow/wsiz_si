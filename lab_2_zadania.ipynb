{
 "cells": [
  {
   "cell_type": "code",
   "execution_count": null,
   "metadata": {},
   "outputs": [],
   "source": [
    "# Zadanie 1: sprawdź poniżej inne elementy wczytanego zbioru danych, w szczególności opis.\n",
    "# Opisz w max 3 zdaniach swoimi słowami co zawiera zbiór danych"
   ]
  },
  {
   "cell_type": "code",
   "execution_count": null,
   "metadata": {},
   "outputs": [],
   "source": [
    "from sklearn import datasets\n",
    "iris = datasets.load_iris()\n",
    "print(iris)"
   ]
  },
  {
   "cell_type": "code",
   "execution_count": null,
   "metadata": {},
   "outputs": [],
   "source": [
    "\"\"\"\n",
    "Zbiór zawiera:\n",
    "> 150 instancji (zestawów atrybutów opisujących pojedyncze obiekty) opisujących kwiaty irysa.\n",
    "> 4 atrybuty numeryczne opisujące długość i szerokość płatków\n",
    "> Informacje dotyczące atrybutów (długości i szerokości podane w centymetrach)\n",
    "\"\"\""
   ]
  },
  {
   "cell_type": "code",
   "execution_count": null,
   "metadata": {},
   "outputs": [],
   "source": [
    "# Zadanie 2:\n",
    "# Stwórz listę kilku wybranych przez siebie wartości dla parametru n_neighbors\n",
    "# W pętli 'for' użyj kolejnych wartości parametru do stworzenia klasyfikatora\n",
    "# Następnie naucz go na danych uczących\n",
    "# Zapisz wynik scoringu na danych testowych do osobnej listy"
   ]
  },
  {
   "cell_type": "code",
   "execution_count": null,
   "metadata": {},
   "outputs": [],
   "source": [
    "import matplotlib.pyplot as plt\n",
    "import pandas as pd\n",
    "import numpy as np\n",
    "from sklearn import datasets\n",
    "from sklearn.neighbors import KNeighborsClassifier\n",
    "from sklearn.model_selection import train_test_split"
   ]
  },
  {
   "cell_type": "code",
   "execution_count": null,
   "metadata": {},
   "outputs": [],
   "source": [
    "iris = datasets.load_iris()\n",
    "X = iris.data  # cechy\n",
    "y = iris.target  # etykiety\n",
    "# podzial na zbior uczacy i testowy\n",
    "X_train, X_test, y_train, y_test = train_test_split(X, y, test_size = 0.3)\n"
   ]
  },
  {
   "cell_type": "code",
   "execution_count": null,
   "metadata": {},
   "outputs": [],
   "source": [
    "lista_n = range(1,50,2)  # generator listy sasiadow\n",
    "dokladnosci = []\n",
    "\n",
    "for n_neighb in lista_n:\n",
    "    knn = KNeighborsClassifier(n_neighbors = n_neighb)\n",
    "    # uczenie klasyfikatora\n",
    "    knn.fit(X_train, y_train)\n",
    "    dokladnosc = knn.score(X_test, y_test)\n",
    "    dokladnosci.append(dokladnosc)"
   ]
  },
  {
   "cell_type": "code",
   "execution_count": null,
   "metadata": {},
   "outputs": [],
   "source": [
    "# wykres zaleznosci miedzy liczba sasiadow a dokladnoscia\n",
    "%matplotlib inline\n",
    "# Mapowanie -> ilosc sasiadow i dokladnosc\n",
    "print(list(zip(lista_n, dokladnosci)))\n",
    "\n",
    "plt.scatter(np.array(lista_n), np.array(dokladnosci), color='g')\n",
    "plt.xticks(list(lista_n))  # zwiekszenie dokladnosci wyswietlanych danych na osi X\n",
    "plt.tick_params(axis='x', rotation=90)\n",
    "plt.grid(True)\n",
    "plt.xlabel('Sasiedzi')\n",
    "plt.ylabel('Dokladnosci')\n",
    "plt.show()"
   ]
  },
  {
   "cell_type": "code",
   "execution_count": null,
   "metadata": {},
   "outputs": [],
   "source": [
    "# Zadanie 3:\n",
    "# Zbadaj zbiór danych. Stwórz wykresy obrazujące ten zbiór danych.\n",
    "# Podziel zbiór danych na uczący i testowy.\n",
    "# Wytrenuj klasyfikator kNN\n",
    "# Dokonaj predykcji na zbiorze testowym\n",
    "# Wypisz raport z uczenia: confusion_matrix oraz classification_report\n"
   ]
  },
  {
   "cell_type": "code",
   "execution_count": null,
   "metadata": {
    "scrolled": true
   },
   "outputs": [],
   "source": [
    "from sklearn.datasets import load_wine\n",
    "import seaborn as sns\n",
    "wines = load_wine()\n",
    "# Przygotowanie danych w postaci dataframe w celu ullatwienia rysowania wykresow\n",
    "wines_df = pd.DataFrame(wines['data'], columns=wines['feature_names'])\n",
    "targets = map(lambda x: wines['target_names'][x], wines.target)\n",
    "wines_df['species'] = np.array(list(targets))\n",
    "\n",
    "sns.set_style(\"whitegrid\")\n",
    "sns.pairplot(wines_df, hue='species', height=3)\n",
    "plt.show()\n"
   ]
  },
  {
   "cell_type": "code",
   "execution_count": null,
   "metadata": {},
   "outputs": [],
   "source": [
    "# Podzial na zbiory\n",
    "X = wines.data  # cechy\n",
    "y = wines.target  # etykiety\n",
    "# podzial na zbior uczacy i testowy\n",
    "X_train, X_test, y_train, y_test = train_test_split(X, y, test_size = 0.3)\n"
   ]
  },
  {
   "cell_type": "code",
   "execution_count": null,
   "metadata": {},
   "outputs": [],
   "source": [
    "# Klasyfikator knn\n",
    "knn = KNeighborsClassifier(n_neighbors = 7)\n",
    "knn.fit(X_train, y_train)\n",
    "\n",
    "#predykcja na zbiorze testowym\n",
    "y_pred = knn.predict(X_test)\n",
    "print(f'Dokladnosc klasyfkatora: {y_pred}')"
   ]
  },
  {
   "cell_type": "code",
   "execution_count": null,
   "metadata": {
    "scrolled": true
   },
   "outputs": [],
   "source": [
    "# Confusion matrix / classification report\n",
    "from sklearn.metrics import classification_report, confusion_matrix\n",
    "print(confusion_matrix(y_test, y_pred))\n",
    "print(classification_report(y_test, y_pred))"
   ]
  },
  {
   "cell_type": "code",
   "execution_count": null,
   "metadata": {},
   "outputs": [],
   "source": []
  }
 ],
 "metadata": {
  "kernelspec": {
   "display_name": "Python 3",
   "language": "python",
   "name": "python3"
  },
  "language_info": {
   "codemirror_mode": {
    "name": "ipython",
    "version": 3
   },
   "file_extension": ".py",
   "mimetype": "text/x-python",
   "name": "python",
   "nbconvert_exporter": "python",
   "pygments_lexer": "ipython3",
   "version": "3.7.3"
  }
 },
 "nbformat": 4,
 "nbformat_minor": 2
}
